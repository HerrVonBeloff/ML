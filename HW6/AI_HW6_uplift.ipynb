{
  "cells": [
    {
      "cell_type": "markdown",
      "metadata": {
        "colab_type": "text",
        "id": "view-in-github"
      },
      "source": [
        "<a href=\"https://colab.research.google.com/github/Murcha1990/ML_AI24/blob/main/Hometasks/Pro/AI_HW6_uplift.ipynb\" target=\"_parent\"><img src=\"https://colab.research.google.com/assets/colab-badge.svg\" alt=\"Open In Colab\"/></a>"
      ]
    },
    {
      "cell_type": "markdown",
      "metadata": {
        "id": "5UxZHx_r25YA"
      },
      "source": [
        "<h1> Задание по Uplift-моделированию </h1>"
      ]
    },
    {
      "cell_type": "markdown",
      "metadata": {
        "id": "r1LJ_Q4k25YB"
      },
      "source": [
        "<h2>Введение</h2>"
      ]
    },
    {
      "cell_type": "markdown",
      "metadata": {
        "id": "EiEmEZgQ25YC"
      },
      "source": [
        "Перед вами типичная задача, возникающая при работе с моделями кампейнинга в банке: заказчик запустил несколько пилотов по взаимодействию с клиентами с помощью разных каналов: push в мобильном приложении, sms, баннеры в мобильном приложении и реклама в других приложениях экосистемы. Заказчик хотел бы понимать, какой канал взаимодействия с клиентом наиболее эффективен для каждого клиента из клиентской базы. Кампании планируются и запускаются в ежемесячном режиме. Иными словами, заказчик хотел бы в идеале ежемесячно получать список клиентов, которым необходимо отправить коммуникацию с указанием канала и прироста вероятности покупки в случае, если клиенту отправят коммуникацию по сравнению с тем случаем, когда клиенту коммуникацию не отправят."
      ]
    },
    {
      "cell_type": "markdown",
      "metadata": {
        "id": "aLgfZIiN25YC"
      },
      "source": [
        "<b>Таким образом: </b>\n",
        "1.\tУ нас есть база клиентов (клиенты, имеющие id в банке). По данной базе осуществляется рассылка тех или иных стимулирующих коммуникаций по различным продуктам, каналам (например SMS, Push, баннеры в мобильном приложении и т.д.) и сегментам клиентов\n",
        "2.\tПризнаковое описание клиента состоит из различных агрегатов действий клиента за месяц или его объективных характеристик: например, средняя сумма средств на депозитах за месяц, среднее число кликов клиента в день за месяц в разделе \"инвестиции\" в мобильном приложении или возраст клиента\n",
        "3.\tПри формировании обучающей/тестовой выборки допускается, что один и тот же клиент за разные месяцы — это разные объекты. То есть допускается, что клиент в феврале и клиент в марте — это разные клиенты (то есть мы можем оперировать с ними как с разными сущностями).\n",
        "4.\tАгрегаты действий клиента за месяц появляются примерно 10 числа следующего месяца. То есть, например, агрегаты за декабрь появляются 10 января. В свою очередь списки клиентов, которым необходимо осуществить рассылку должны быть сформированы ориентировочно 20 числа предыдущего месяца. Таким образом, <b> модель должна быть обучена делать предсказания с лагом в два месяца </b>, то есть должна делать предсказание на март по клиентским агрегатам за январь. Обязательно учтите это при обучении модели (в противном случае можно получить лик таргета, так как часто величину, которую мы предсказываем уже есть в клиентских агрегатах, но смещенная на два месяца).\n"
      ]
    },
    {
      "cell_type": "markdown",
      "metadata": {
        "id": "r5VaIQxhMkn_"
      },
      "source": [
        "## Оценивание задания:\n",
        "\n",
        "Всего за задание можно получить 50 первичных баллов, которые затем переводятся в 10-балльную шкалу делением не 5."
      ]
    },
    {
      "cell_type": "markdown",
      "metadata": {
        "id": "D5LqU8fw76ML"
      },
      "source": [
        "Скачаем архив с данными по ссылке и разархивируем."
      ]
    },
    {
      "cell_type": "code",
      "execution_count": 1,
      "metadata": {},
      "outputs": [],
      "source": [
        "import warnings\n",
        "warnings.filterwarnings('ignore')"
      ]
    },
    {
      "cell_type": "code",
      "execution_count": 2,
      "metadata": {
        "id": "I-5it8TG7ayV"
      },
      "outputs": [],
      "source": [
        "import zipfile\n",
        "\n",
        "with zipfile.ZipFile('Data.zip', 'r') as zip_ref:\n",
        "    zip_ref.extractall('/content/')"
      ]
    },
    {
      "cell_type": "markdown",
      "metadata": {
        "id": "l9G5oeYo25YD"
      },
      "source": [
        "<h2>Описание данных</h2>"
      ]
    },
    {
      "cell_type": "markdown",
      "metadata": {
        "id": "LfuaYa-y25YD"
      },
      "source": [
        "Перед вами несколько наборов данных, на основе которых вам будет необходимо обучить Uplift модели, сделать прогноз на нужный месяц и решить, кому из клиентов отправлять коммуникацию, а кому коммуникацию отправлять не следует."
      ]
    },
    {
      "cell_type": "markdown",
      "metadata": {
        "id": "DRjowlnH25YD"
      },
      "source": [
        "<h3>Features </h3> Признаки клиентов, клиентские агрегаты, которые описывают поведение клиентов <br>\n",
        "\n",
        "1. user_id - id клиента\n",
        "2. report_dt - месяц, на который актуальны признаки\n",
        "3. city - город, в котором живет клиент\n",
        "4. age - возраст клиента\n",
        "5. x1 – x9 - числовые признаки клиента, характеризующие поведение клиента\n",
        "\n",
        "Первичный ключ таблицы - user_id + report_dt"
      ]
    },
    {
      "cell_type": "markdown",
      "metadata": {
        "id": "2rJL_Hku25YD"
      },
      "source": [
        "<h3> Contracts </h3> Таблица с покупками продуктов.\n",
        "\n",
        "1. contract_id - id покупки\n",
        "2. user_id - id пользователя, который совершил покупку\n",
        "3. product_id - id продукта, который был куплен\n",
        "4. contract_ts – дата момента, когда была совершена покупка\n",
        "\n",
        "Первичный ключ - contract_id\n"
      ]
    },
    {
      "cell_type": "markdown",
      "metadata": {
        "id": "2TqZalUD25YE"
      },
      "source": [
        "<h3> Campaings </h3> Кампании, которые проводились (под кампанией мы понимаем рассылку sms, push и т.д).\n",
        "\n",
        "1. campaing_id - id кампании, первичный ключ таблицы\n",
        "2. product_id - продукт, по которому проводилась кампания (считаем, что продукты не конкурируют друг с другом)\n",
        "3. channel - канал, в котором проводилась кампания\n"
      ]
    },
    {
      "cell_type": "markdown",
      "metadata": {
        "id": "np7t4WiP25YE"
      },
      "source": [
        "<h3> People_in_campaings </h3> Люди, которые принимали участие в кампаниях.\n",
        "\n",
        "1. campaing_id - id кампании\n",
        "2. user_id - id пользователя, который попал в кампанию\n",
        "3. флаг целевой (1) и контрольной (0) группы (целевая группа - это те, кто получил коммуникацию, а контрольная - те, кто нет)\n",
        "4. delivery_ts - timestamp, когда клиенту фактически была доставлена коммуникация (для контрольной группы nan, подумайте почему)\n",
        "\n",
        "Первичный ключ данной таблицы - user_id + campaing_id\n"
      ]
    },
    {
      "cell_type": "markdown",
      "metadata": {
        "id": "C03ITf9d25YE"
      },
      "source": [
        "<h3> Contracts </h3> Таблица с покупками продуктов\n",
        "\n",
        "1. contract_id - id покупки\n",
        "2. user_id - id пользователя, который совершил покупку\n",
        "3. product_id - id продукта, который был куплен\n",
        "4. contract_ts – дата момента, когда была совершена покупка\n",
        "\n",
        "Первичный ключ - contract_id\n"
      ]
    },
    {
      "cell_type": "markdown",
      "metadata": {
        "id": "X13DQ-BZ25YE"
      },
      "source": [
        "<h1> Постановка задачи </h1> В ноябре 2024 проводилось несколько кампаний по продукту с id 0001 (фактически клиенту рассылалось одно и тоже сообщение, но в разных каналах). Вам необходимо по данным кампаниям построить модель, которая будет определять лучший канал коммуникации каждого клиента и определить, кому из клиентов в марте 2025 отправить какую коммуникацию, а кому коммуникацию вообще отправлять не следует.\n",
        "Ответ нужно представить в следующем виде (report_dt – дата фичей):"
      ]
    },
    {
      "cell_type": "markdown",
      "metadata": {
        "id": "PARzVwDJ25YE"
      },
      "source": [
        "<table>\n",
        "  <thead>\n",
        "    <tr>\n",
        "      <th>user_id</th>\n",
        "      <th>report_dt</th>\n",
        "      <th>channel</th>\n",
        "      <th>uplift</th>\n",
        "    </tr>\n",
        "  </thead>\n",
        "  <tbody>\n",
        "    <tr>\n",
        "      <td>10045</td>\n",
        "      <td>2025-01-31</td>\n",
        "      <td>banner</td>\n",
        "      <td>0.07</td>\n",
        "    </tr>\n",
        "    <tr>\n",
        "      <td>10046</td>\n",
        "      <td>2025-01-31</td>\n",
        "      <td>no_comm</td>\n",
        "      <td>0.00</td>\n",
        "    </tr>\n",
        "    <tr>\n",
        "      <td>10047</td>\n",
        "      <td>2025-01-31</td>\n",
        "      <td>sms</td>\n",
        "      <td>0.23</td>\n",
        "    </tr>\n",
        "    <tr>\n",
        "      <td>10048</td>\n",
        "      <td>2025-01-31</td>\n",
        "      <td>push</td>\n",
        "      <td>0.19</td>\n",
        "    </tr>\n",
        "  </tbody>\n",
        "</table>"
      ]
    },
    {
      "cell_type": "markdown",
      "metadata": {
        "id": "m88lnhDN25YE"
      },
      "source": [
        "<h1> Декомпозиция задачи </h1>"
      ]
    },
    {
      "cell_type": "markdown",
      "metadata": {
        "id": "9NIZb-Ln25YE"
      },
      "source": [
        "<h2> 1.\tСбор и анализ таргета (18 баллов)</h2>"
      ]
    },
    {
      "cell_type": "markdown",
      "metadata": {
        "id": "rh9PtKOB25YF"
      },
      "source": [
        "Прежде всего, вам необходимо собрать целевое событие, которое вы собираетесь прогнозировать. В данном случае целевое событие - это покупка продукта 0001 пользователем, участвовавшем в кампании. Обратите внимание, что не все пользователи получают коммуникацию одновременно (delivery_ts в таблице People_in_campaings). Согласно правилу, согласованному с заказчиком, <b> человек из целевой группы купил продукт после коммуникации - это значит, что он купил его в течение 2х недель после получения сообщения, а человек из контрольной - в течение 3х недель с момента старта кампании (старт кампании - начало месяца). </b> То есть для определенной кампании, для каждого клиента, попавшего в кампанию, вам надо будет найти его покупки данного продукта, а потом основываяся на данном правиле превратить покупки в 0 или 1. <br> На выходе у вас должен появиться таблица с целевым действием для каждого канала (колонки client_id, report_dt,  target), где таргет - это бинарная переменная (0 или 1). Колонка report_dt вам нужна как техническая колонка для дальнейших джоинов.<br><br>\n",
        "\n",
        "Проведите анализ полученных данных (до присоединения клиентских агрегатов). Какие проблемы и сложности в данных вы обнаружили? Что с ними можно сделать? Какая из кампаний наиболее эффективная? Подготовьте выводы по полученным инсайтам.\n"
      ]
    },
    {
      "cell_type": "markdown",
      "metadata": {
        "id": "tSZt8rI5DQFu"
      },
      "source": [
        "**Комментарий по заданиям и оцениванию:**\n",
        "\n",
        "* Вы должны самостоятельно сделать join нескольких таблиц, самостоятельно собрать целевое действие\n",
        "\n",
        "* Представлены 4 различных канала, за таргет по каждому из каналов можно получить **максимум 2 балла**:\n",
        "    * 1 балл за то, что просчитано целевое действие для целевой группы (покупка в\n",
        "течение одной-двух недель с момента получения коммуникации)\n",
        "    * 1 балл за то, что просчитано целевое действие для контрольной группы (покупка в течение двух-трех недель с момента старта кампании) и сделана таблица в требуемом формате\n",
        "\n",
        "* Обратите внимание, что не во всех кампаниях содержатся корректные данные для проведения моделирования, и вам необходимо провести анализ данных и в случае выявленных некорректностей - описать их, и не проводить моделирование для \"сломанной\" кампании  \n",
        "    * За данный анализ можно получить **8 баллов**\n",
        "\n",
        "* Вы должны оценить эффективность кампаний по uplift (cреднее значение таргета в целевой минус среднее значение таргета в контрольной группе)\n",
        "    * За данный анализ можно получить **2 балла**"
      ]
    },
    {
      "cell_type": "code",
      "execution_count": 3,
      "metadata": {},
      "outputs": [
        {
          "name": "stderr",
          "output_type": "stream",
          "text": [
            "Failed to import duecredit due to No module named 'duecredit'\n"
          ]
        }
      ],
      "source": [
        "import random\n",
        "import numpy as np\n",
        "from tqdm import tqdm\n",
        "from time import time\n",
        "\n",
        "import pandas as pd\n",
        "import seaborn as sns\n",
        "from matplotlib import pyplot as plt\n",
        "\n",
        "from sklearn.preprocessing import StandardScaler, OneHotEncoder\n",
        "from sklearn.compose import ColumnTransformer\n",
        "from sklearn.model_selection import train_test_split, GridSearchCV, StratifiedKFold\n",
        "from sklearn.pipeline import Pipeline\n",
        "\n",
        "from sklearn.linear_model import LogisticRegression\n",
        "from catboost import CatBoostClassifier\n",
        "from causalml.inference.tree import UpliftRandomForestClassifier\n",
        "from sklearn.calibration import CalibratedClassifierCV\n",
        "\n",
        "from sklift.models import SoloModel, TwoModels, ClassTransformation\n",
        "from sklift.metrics import qini_auc_score\n",
        "from sklearn.metrics import make_scorer\n",
        "\n",
        "from libraries.psi import calculate_psi"
      ]
    },
    {
      "cell_type": "markdown",
      "metadata": {},
      "source": [
        "#### 1.1 Загрузка и первичная обработка данных"
      ]
    },
    {
      "cell_type": "code",
      "execution_count": 4,
      "metadata": {
        "id": "oPa4XRte3_58"
      },
      "outputs": [],
      "source": [
        "features = pd.read_csv('data/AGGS_FINAL.csv', index_col=0)\n",
        "contracts = pd.read_csv('data/CONTRACTS_FINAL.csv', index_col=0)\n",
        "campaigns = pd.read_csv('data/CAMPAINGS.csv', index_col=0)\n",
        "people_in_campaigns = pd.read_csv('data/PEOPLE_IN_CAMPAINGS_FINAL.csv', index_col=0)"
      ]
    },
    {
      "cell_type": "code",
      "execution_count": 5,
      "metadata": {},
      "outputs": [
        {
          "data": {
            "text/html": [
              "<div>\n",
              "<style scoped>\n",
              "    .dataframe tbody tr th:only-of-type {\n",
              "        vertical-align: middle;\n",
              "    }\n",
              "\n",
              "    .dataframe tbody tr th {\n",
              "        vertical-align: top;\n",
              "    }\n",
              "\n",
              "    .dataframe thead th {\n",
              "        text-align: right;\n",
              "    }\n",
              "</style>\n",
              "<table border=\"1\" class=\"dataframe\">\n",
              "  <thead>\n",
              "    <tr style=\"text-align: right;\">\n",
              "      <th></th>\n",
              "      <th>x1</th>\n",
              "      <th>x2</th>\n",
              "      <th>x3</th>\n",
              "      <th>x4</th>\n",
              "      <th>x5</th>\n",
              "      <th>x6</th>\n",
              "      <th>x7</th>\n",
              "      <th>x8</th>\n",
              "      <th>x9</th>\n",
              "      <th>report_dt</th>\n",
              "      <th>user_id</th>\n",
              "      <th>age</th>\n",
              "      <th>city</th>\n",
              "    </tr>\n",
              "  </thead>\n",
              "  <tbody>\n",
              "    <tr>\n",
              "      <th>104548</th>\n",
              "      <td>0.654343</td>\n",
              "      <td>-1.439286</td>\n",
              "      <td>-0.011475</td>\n",
              "      <td>2.039457</td>\n",
              "      <td>0.843580</td>\n",
              "      <td>-0.977480</td>\n",
              "      <td>-0.768019</td>\n",
              "      <td>-1.044127</td>\n",
              "      <td>0.025673</td>\n",
              "      <td>2025-01-31</td>\n",
              "      <td>1066338</td>\n",
              "      <td>26</td>\n",
              "      <td>Ufa</td>\n",
              "    </tr>\n",
              "    <tr>\n",
              "      <th>38396</th>\n",
              "      <td>2.583579</td>\n",
              "      <td>1.755569</td>\n",
              "      <td>3.360186</td>\n",
              "      <td>-1.122864</td>\n",
              "      <td>0.034201</td>\n",
              "      <td>-0.269607</td>\n",
              "      <td>-1.503646</td>\n",
              "      <td>1.040289</td>\n",
              "      <td>-1.691606</td>\n",
              "      <td>2024-11-30</td>\n",
              "      <td>13900</td>\n",
              "      <td>35</td>\n",
              "      <td>Ufa</td>\n",
              "    </tr>\n",
              "    <tr>\n",
              "      <th>227077</th>\n",
              "      <td>0.296030</td>\n",
              "      <td>-0.937075</td>\n",
              "      <td>1.073280</td>\n",
              "      <td>1.874636</td>\n",
              "      <td>-0.981216</td>\n",
              "      <td>-1.100187</td>\n",
              "      <td>-0.331181</td>\n",
              "      <td>-1.575637</td>\n",
              "      <td>0.474965</td>\n",
              "      <td>2025-03-31</td>\n",
              "      <td>4063636</td>\n",
              "      <td>28</td>\n",
              "      <td>Ufa</td>\n",
              "    </tr>\n",
              "    <tr>\n",
              "      <th>304649</th>\n",
              "      <td>2.329328</td>\n",
              "      <td>-1.345159</td>\n",
              "      <td>0.345066</td>\n",
              "      <td>0.755373</td>\n",
              "      <td>-0.082842</td>\n",
              "      <td>0.028439</td>\n",
              "      <td>0.919211</td>\n",
              "      <td>0.808793</td>\n",
              "      <td>-0.560004</td>\n",
              "      <td>2025-03-31</td>\n",
              "      <td>1025488</td>\n",
              "      <td>27</td>\n",
              "      <td>Moscow</td>\n",
              "    </tr>\n",
              "    <tr>\n",
              "      <th>239518</th>\n",
              "      <td>0.167643</td>\n",
              "      <td>1.587099</td>\n",
              "      <td>0.165357</td>\n",
              "      <td>0.289758</td>\n",
              "      <td>-1.108840</td>\n",
              "      <td>-1.501819</td>\n",
              "      <td>0.615588</td>\n",
              "      <td>1.631203</td>\n",
              "      <td>-0.208419</td>\n",
              "      <td>2025-02-28</td>\n",
              "      <td>4040555</td>\n",
              "      <td>37</td>\n",
              "      <td>Moscow</td>\n",
              "    </tr>\n",
              "  </tbody>\n",
              "</table>\n",
              "</div>"
            ],
            "text/plain": [
              "              x1        x2        x3        x4        x5        x6        x7  \\\n",
              "104548  0.654343 -1.439286 -0.011475  2.039457  0.843580 -0.977480 -0.768019   \n",
              "38396   2.583579  1.755569  3.360186 -1.122864  0.034201 -0.269607 -1.503646   \n",
              "227077  0.296030 -0.937075  1.073280  1.874636 -0.981216 -1.100187 -0.331181   \n",
              "304649  2.329328 -1.345159  0.345066  0.755373 -0.082842  0.028439  0.919211   \n",
              "239518  0.167643  1.587099  0.165357  0.289758 -1.108840 -1.501819  0.615588   \n",
              "\n",
              "              x8        x9  report_dt  user_id  age    city  \n",
              "104548 -1.044127  0.025673 2025-01-31  1066338   26     Ufa  \n",
              "38396   1.040289 -1.691606 2024-11-30    13900   35     Ufa  \n",
              "227077 -1.575637  0.474965 2025-03-31  4063636   28     Ufa  \n",
              "304649  0.808793 -0.560004 2025-03-31  1025488   27  Moscow  \n",
              "239518  1.631203 -0.208419 2025-02-28  4040555   37  Moscow  "
            ]
          },
          "execution_count": 5,
          "metadata": {},
          "output_type": "execute_result"
        }
      ],
      "source": [
        "features['report_dt'] = pd.to_datetime(features['report_dt'], format='%Y-%m-%d') # перевод в тип datetime\n",
        "features.head()"
      ]
    },
    {
      "cell_type": "code",
      "execution_count": 6,
      "metadata": {},
      "outputs": [
        {
          "data": {
            "text/html": [
              "<div>\n",
              "<style scoped>\n",
              "    .dataframe tbody tr th:only-of-type {\n",
              "        vertical-align: middle;\n",
              "    }\n",
              "\n",
              "    .dataframe tbody tr th {\n",
              "        vertical-align: top;\n",
              "    }\n",
              "\n",
              "    .dataframe thead th {\n",
              "        text-align: right;\n",
              "    }\n",
              "</style>\n",
              "<table border=\"1\" class=\"dataframe\">\n",
              "  <thead>\n",
              "    <tr style=\"text-align: right;\">\n",
              "      <th></th>\n",
              "      <th>user_id</th>\n",
              "      <th>contract_date</th>\n",
              "      <th>product_id</th>\n",
              "      <th>contract_id</th>\n",
              "    </tr>\n",
              "  </thead>\n",
              "  <tbody>\n",
              "    <tr>\n",
              "      <th>39735</th>\n",
              "      <td>4008279</td>\n",
              "      <td>2024-11-03</td>\n",
              "      <td>1</td>\n",
              "      <td>0001_2024-11-03_4008279</td>\n",
              "    </tr>\n",
              "    <tr>\n",
              "      <th>44062</th>\n",
              "      <td>2079035</td>\n",
              "      <td>2024-11-08</td>\n",
              "      <td>1</td>\n",
              "      <td>0001_2024-11-08_2079035</td>\n",
              "    </tr>\n",
              "    <tr>\n",
              "      <th>9286</th>\n",
              "      <td>103088</td>\n",
              "      <td>2024-11-13</td>\n",
              "      <td>1</td>\n",
              "      <td>0001_2024-11-13_103088</td>\n",
              "    </tr>\n",
              "    <tr>\n",
              "      <th>45573</th>\n",
              "      <td>2026788</td>\n",
              "      <td>2024-11-02</td>\n",
              "      <td>1</td>\n",
              "      <td>0001_2024-11-02_2026788</td>\n",
              "    </tr>\n",
              "    <tr>\n",
              "      <th>150378</th>\n",
              "      <td>52269</td>\n",
              "      <td>2024-11-17</td>\n",
              "      <td>1</td>\n",
              "      <td>0001_2024-11-17_52269</td>\n",
              "    </tr>\n",
              "  </tbody>\n",
              "</table>\n",
              "</div>"
            ],
            "text/plain": [
              "        user_id contract_date  product_id              contract_id\n",
              "39735   4008279    2024-11-03           1  0001_2024-11-03_4008279\n",
              "44062   2079035    2024-11-08           1  0001_2024-11-08_2079035\n",
              "9286     103088    2024-11-13           1   0001_2024-11-13_103088\n",
              "45573   2026788    2024-11-02           1  0001_2024-11-02_2026788\n",
              "150378    52269    2024-11-17           1    0001_2024-11-17_52269"
            ]
          },
          "execution_count": 6,
          "metadata": {},
          "output_type": "execute_result"
        }
      ],
      "source": [
        "contracts['contract_date'] = pd.to_datetime(contracts['contract_date'], format='%Y-%m-%d') # перевод в тип datetime\n",
        "contracts.head()"
      ]
    },
    {
      "cell_type": "code",
      "execution_count": 7,
      "metadata": {},
      "outputs": [
        {
          "data": {
            "text/html": [
              "<div>\n",
              "<style scoped>\n",
              "    .dataframe tbody tr th:only-of-type {\n",
              "        vertical-align: middle;\n",
              "    }\n",
              "\n",
              "    .dataframe tbody tr th {\n",
              "        vertical-align: top;\n",
              "    }\n",
              "\n",
              "    .dataframe thead th {\n",
              "        text-align: right;\n",
              "    }\n",
              "</style>\n",
              "<table border=\"1\" class=\"dataframe\">\n",
              "  <thead>\n",
              "    <tr style=\"text-align: right;\">\n",
              "      <th></th>\n",
              "      <th>campaing_id</th>\n",
              "      <th>product_id</th>\n",
              "      <th>channel</th>\n",
              "    </tr>\n",
              "  </thead>\n",
              "  <tbody>\n",
              "    <tr>\n",
              "      <th>0</th>\n",
              "      <td>iddqd</td>\n",
              "      <td>1</td>\n",
              "      <td>push</td>\n",
              "    </tr>\n",
              "    <tr>\n",
              "      <th>1</th>\n",
              "      <td>idclip</td>\n",
              "      <td>1</td>\n",
              "      <td>sms</td>\n",
              "    </tr>\n",
              "    <tr>\n",
              "      <th>2</th>\n",
              "      <td>iddt</td>\n",
              "      <td>1</td>\n",
              "      <td>banner</td>\n",
              "    </tr>\n",
              "    <tr>\n",
              "      <th>3</th>\n",
              "      <td>idkfa</td>\n",
              "      <td>1</td>\n",
              "      <td>other_ads</td>\n",
              "    </tr>\n",
              "  </tbody>\n",
              "</table>\n",
              "</div>"
            ],
            "text/plain": [
              "  campaing_id  product_id    channel\n",
              "0       iddqd           1       push\n",
              "1      idclip           1        sms\n",
              "2        iddt           1     banner\n",
              "3       idkfa           1  other_ads"
            ]
          },
          "execution_count": 7,
          "metadata": {},
          "output_type": "execute_result"
        }
      ],
      "source": [
        "campaigns.head()"
      ]
    },
    {
      "cell_type": "code",
      "execution_count": 8,
      "metadata": {},
      "outputs": [
        {
          "data": {
            "text/html": [
              "<div>\n",
              "<style scoped>\n",
              "    .dataframe tbody tr th:only-of-type {\n",
              "        vertical-align: middle;\n",
              "    }\n",
              "\n",
              "    .dataframe tbody tr th {\n",
              "        vertical-align: top;\n",
              "    }\n",
              "\n",
              "    .dataframe thead th {\n",
              "        text-align: right;\n",
              "    }\n",
              "</style>\n",
              "<table border=\"1\" class=\"dataframe\">\n",
              "  <thead>\n",
              "    <tr style=\"text-align: right;\">\n",
              "      <th></th>\n",
              "      <th>campaing_id</th>\n",
              "      <th>user_id</th>\n",
              "      <th>t_flag</th>\n",
              "      <th>delivery_date</th>\n",
              "    </tr>\n",
              "  </thead>\n",
              "  <tbody>\n",
              "    <tr>\n",
              "      <th>29299</th>\n",
              "      <td>idclip</td>\n",
              "      <td>1099975</td>\n",
              "      <td>1</td>\n",
              "      <td>2024-11-06</td>\n",
              "    </tr>\n",
              "    <tr>\n",
              "      <th>36627</th>\n",
              "      <td>iddqd</td>\n",
              "      <td>1162</td>\n",
              "      <td>1</td>\n",
              "      <td>2024-11-08</td>\n",
              "    </tr>\n",
              "    <tr>\n",
              "      <th>134015</th>\n",
              "      <td>iddqd</td>\n",
              "      <td>42991</td>\n",
              "      <td>1</td>\n",
              "      <td>2024-11-07</td>\n",
              "    </tr>\n",
              "    <tr>\n",
              "      <th>57441</th>\n",
              "      <td>idclip</td>\n",
              "      <td>142343</td>\n",
              "      <td>0</td>\n",
              "      <td>NaT</td>\n",
              "    </tr>\n",
              "    <tr>\n",
              "      <th>48671</th>\n",
              "      <td>iddqd</td>\n",
              "      <td>24623</td>\n",
              "      <td>0</td>\n",
              "      <td>NaT</td>\n",
              "    </tr>\n",
              "  </tbody>\n",
              "</table>\n",
              "</div>"
            ],
            "text/plain": [
              "       campaing_id  user_id  t_flag delivery_date\n",
              "29299       idclip  1099975       1    2024-11-06\n",
              "36627        iddqd     1162       1    2024-11-08\n",
              "134015       iddqd    42991       1    2024-11-07\n",
              "57441       idclip   142343       0           NaT\n",
              "48671        iddqd    24623       0           NaT"
            ]
          },
          "execution_count": 8,
          "metadata": {},
          "output_type": "execute_result"
        }
      ],
      "source": [
        "people_in_campaigns.delivery_date = pd.to_datetime(people_in_campaigns.delivery_date, format='%Y-%m-%d', errors='coerce') # перевод в тип datetime\n",
        "people_in_campaigns.head()"
      ]
    },
    {
      "cell_type": "markdown",
      "metadata": {},
      "source": [
        "#### 1.2 Анализ пересечений кампаний"
      ]
    },
    {
      "cell_type": "code",
      "execution_count": 9,
      "metadata": {},
      "outputs": [],
      "source": [
        "def find_people_in_campaigns(df, campaign):\n",
        "    people_in_campaigns = df[df.campaing_id == campaign]['user_id']\n",
        "    return set(people_in_campaigns)\n",
        "\n",
        "def print_people_counts():\n",
        "    people_in_iddqd = find_people_in_campaigns(people_in_campaigns, 'iddqd')\n",
        "    people_in_idclip = find_people_in_campaigns(people_in_campaigns, 'idclip')\n",
        "    people_in_iddt = find_people_in_campaigns(people_in_campaigns, 'iddt')\n",
        "    people_in_idkfa = find_people_in_campaigns(people_in_campaigns, 'idkfa')\n",
        "\n",
        "    print(f'people_in_iddqd: {len(people_in_iddqd)}')\n",
        "    print(f'people_in_idclip: {len(people_in_idclip)}')\n",
        "    print(f'people_in_iddt: {len(people_in_iddt)}')\n",
        "    print(f'people_in_idkfa: {len(people_in_idkfa)}')"
      ]
    },
    {
      "cell_type": "code",
      "execution_count": 10,
      "metadata": {},
      "outputs": [
        {
          "name": "stdout",
          "output_type": "stream",
          "text": [
            "people_in_iddqd: 160000\n",
            "people_in_idclip: 120000\n",
            "people_in_iddt: 120000\n",
            "people_in_idkfa: 120000\n"
          ]
        }
      ],
      "source": [
        "print_people_counts()"
      ]
    },
    {
      "cell_type": "markdown",
      "metadata": {},
      "source": [
        "Удалим из таблицы `people_in_campaigns` те `user_id`, которые встречаются больше одного раза"
      ]
    },
    {
      "cell_type": "code",
      "execution_count": 11,
      "metadata": {},
      "outputs": [],
      "source": [
        "user_counts = people_in_campaigns.user_id.value_counts()\n",
        "unique_users = user_counts[user_counts == 1].index\n",
        "people_in_campaigns = people_in_campaigns[people_in_campaigns.user_id.isin(unique_users)]"
      ]
    },
    {
      "cell_type": "code",
      "execution_count": 12,
      "metadata": {},
      "outputs": [
        {
          "name": "stdout",
          "output_type": "stream",
          "text": [
            "people_in_iddqd: 100000\n",
            "people_in_idclip: 60000\n",
            "people_in_iddt: 120000\n",
            "people_in_idkfa: 120000\n"
          ]
        }
      ],
      "source": [
        "print_people_counts()"
      ]
    },
    {
      "cell_type": "code",
      "execution_count": 13,
      "metadata": {},
      "outputs": [
        {
          "data": {
            "text/plain": [
              "array([1], dtype=int64)"
            ]
          },
          "execution_count": 13,
          "metadata": {},
          "output_type": "execute_result"
        }
      ],
      "source": [
        "people_in_campaigns[people_in_campaigns.campaing_id == 'idclip'].t_flag.unique()"
      ]
    },
    {
      "cell_type": "markdown",
      "metadata": {},
      "source": [
        "Множество людей, участвовавших к кампании `idclip` наполовину пересекается с участниками кампании `iddqd`. Кроме того, что уже удалили пользователей, учавствовавших в двух и более кампаниях, стоит также удалить кампанию `idclip` из рассмотрения. Так ка у нее не осталось контрольной группы"
      ]
    },
    {
      "cell_type": "code",
      "execution_count": 14,
      "metadata": {},
      "outputs": [],
      "source": [
        "people_in_campaigns = people_in_campaigns[people_in_campaigns.campaing_id != 'idclip']"
      ]
    },
    {
      "cell_type": "markdown",
      "metadata": {},
      "source": [
        "#### 1.3 Объединение таблиц"
      ]
    },
    {
      "cell_type": "code",
      "execution_count": 15,
      "metadata": {},
      "outputs": [],
      "source": [
        "# Функция для определения целевого события\n",
        "def calculate_target(row):\n",
        "    if row['t_flag'] == 1:  # Целевая группа\n",
        "        if pd.notnull(row['contract_date']) and (row['contract_date'] - row['delivery_date']).days <= 14:\n",
        "            return 1\n",
        "    elif row['t_flag'] == 0:  # Контрольная группа\n",
        "        if pd.notnull(row['contract_date']) and (row['contract_date'] - pd.to_datetime('2024-11-01',  format='%Y-%m-%d')).days <= 21:\n",
        "            return 1\n",
        "    return 0"
      ]
    },
    {
      "cell_type": "code",
      "execution_count": 16,
      "metadata": {},
      "outputs": [
        {
          "name": "stdout",
          "output_type": "stream",
          "text": [
            "Размер датасета: (340000, 4)\n"
          ]
        },
        {
          "data": {
            "text/html": [
              "<div>\n",
              "<style scoped>\n",
              "    .dataframe tbody tr th:only-of-type {\n",
              "        vertical-align: middle;\n",
              "    }\n",
              "\n",
              "    .dataframe tbody tr th {\n",
              "        vertical-align: top;\n",
              "    }\n",
              "\n",
              "    .dataframe thead th {\n",
              "        text-align: right;\n",
              "    }\n",
              "</style>\n",
              "<table border=\"1\" class=\"dataframe\">\n",
              "  <thead>\n",
              "    <tr style=\"text-align: right;\">\n",
              "      <th></th>\n",
              "      <th>user_id</th>\n",
              "      <th>t_flag</th>\n",
              "      <th>channel</th>\n",
              "      <th>target</th>\n",
              "    </tr>\n",
              "  </thead>\n",
              "  <tbody>\n",
              "    <tr>\n",
              "      <th>0</th>\n",
              "      <td>24623</td>\n",
              "      <td>0</td>\n",
              "      <td>push</td>\n",
              "      <td>0</td>\n",
              "    </tr>\n",
              "    <tr>\n",
              "      <th>1</th>\n",
              "      <td>4001330</td>\n",
              "      <td>0</td>\n",
              "      <td>banner</td>\n",
              "      <td>0</td>\n",
              "    </tr>\n",
              "    <tr>\n",
              "      <th>2</th>\n",
              "      <td>2008409</td>\n",
              "      <td>1</td>\n",
              "      <td>other_ads</td>\n",
              "      <td>1</td>\n",
              "    </tr>\n",
              "    <tr>\n",
              "      <th>3</th>\n",
              "      <td>4045746</td>\n",
              "      <td>1</td>\n",
              "      <td>banner</td>\n",
              "      <td>1</td>\n",
              "    </tr>\n",
              "    <tr>\n",
              "      <th>4</th>\n",
              "      <td>2101471</td>\n",
              "      <td>0</td>\n",
              "      <td>other_ads</td>\n",
              "      <td>1</td>\n",
              "    </tr>\n",
              "  </tbody>\n",
              "</table>\n",
              "</div>"
            ],
            "text/plain": [
              "   user_id  t_flag    channel  target\n",
              "0    24623       0       push       0\n",
              "1  4001330       0     banner       0\n",
              "2  2008409       1  other_ads       1\n",
              "3  4045746       1     banner       1\n",
              "4  2101471       0  other_ads       1"
            ]
          },
          "execution_count": 16,
          "metadata": {},
          "output_type": "execute_result"
        }
      ],
      "source": [
        "# Шаг 1: Объединяем people_in_campaings и campaings\n",
        "# Добавляем информацию о каналах и продуктах\n",
        "campaigns_data = people_in_campaigns.merge(\n",
        "    campaigns,\n",
        "    on='campaing_id',\n",
        "    how='left'\n",
        ")\n",
        "\n",
        "# Шаг 2: Добавляем информацию о покупках из contracts\n",
        "# Фильтруем покупки только для айтема 1\n",
        "contracts_filtered = contracts[contracts['product_id'] == 1]\n",
        "campaigns_data = campaigns_data.merge(\n",
        "    contracts_filtered,\n",
        "    on='user_id',\n",
        "    how='left'\n",
        ")\n",
        "final_data = campaigns_data\n",
        "\n",
        "# Применяем функцию для расчета целевого события\n",
        "final_data['target'] = final_data.apply(calculate_target, axis=1)\n",
        "\n",
        "# Почистим от ненужных столбцов\n",
        "final_data = final_data.drop(['campaing_id', \n",
        "                              'delivery_date', \n",
        "                              'product_id_x', \n",
        "                              'contract_date', \n",
        "                              'product_id_y', \n",
        "                              'contract_id'], \n",
        "                              axis = 1)\n",
        "\n",
        "print(f'Размер датасета: {final_data.shape}')\n",
        "final_data.head()"
      ]
    },
    {
      "cell_type": "code",
      "execution_count": 17,
      "metadata": {},
      "outputs": [
        {
          "data": {
            "text/html": [
              "<div>\n",
              "<style scoped>\n",
              "    .dataframe tbody tr th:only-of-type {\n",
              "        vertical-align: middle;\n",
              "    }\n",
              "\n",
              "    .dataframe tbody tr th {\n",
              "        vertical-align: top;\n",
              "    }\n",
              "\n",
              "    .dataframe thead th {\n",
              "        text-align: right;\n",
              "    }\n",
              "</style>\n",
              "<table border=\"1\" class=\"dataframe\">\n",
              "  <thead>\n",
              "    <tr style=\"text-align: right;\">\n",
              "      <th></th>\n",
              "      <th>base_uplift</th>\n",
              "    </tr>\n",
              "  </thead>\n",
              "  <tbody>\n",
              "    <tr>\n",
              "      <th>push</th>\n",
              "      <td>0.491200</td>\n",
              "    </tr>\n",
              "    <tr>\n",
              "      <th>banner</th>\n",
              "      <td>0.287017</td>\n",
              "    </tr>\n",
              "    <tr>\n",
              "      <th>other_ads</th>\n",
              "      <td>0.301533</td>\n",
              "    </tr>\n",
              "  </tbody>\n",
              "</table>\n",
              "</div>"
            ],
            "text/plain": [
              "           base_uplift\n",
              "push          0.491200\n",
              "banner        0.287017\n",
              "other_ads     0.301533"
            ]
          },
          "execution_count": 17,
          "metadata": {},
          "output_type": "execute_result"
        }
      ],
      "source": [
        "base_uplift = {}\n",
        "for channel in final_data.channel.unique():\n",
        "    t_flag_1 = final_data[(final_data.channel==channel)&(final_data.t_flag == 1)].target.mean()\n",
        "    t_flag_0 = final_data[(final_data.channel==channel)&(final_data.t_flag == 0)].target.mean()\n",
        "    base_uplift[channel] = t_flag_1 - t_flag_0\n",
        "pd.DataFrame.from_dict(data = base_uplift, orient='index', columns = ['base_uplift'])"
      ]
    },
    {
      "cell_type": "markdown",
      "metadata": {
        "id": "b9Wtw00t4A_k"
      },
      "source": [
        "#### 1.4 Выводы"
      ]
    },
    {
      "cell_type": "markdown",
      "metadata": {},
      "source": [
        "В ходе анализа данных по кампаниям нашлось 60000 человек, которые принимали участие в двух кампаниях сразу (sms и push). После удаления этих пользователей от sms кампании не осталось пользователей из контрольной группы (`t_flag == 0`), поэтому sms кампанию полностью исключили из рассмотрения.\n",
        "\n",
        "При объединении данных и формировании таргета получили датасет размером `(340000, 4)` и столбцами `user_id`, `t_flag`, `channel` и `target`\n",
        "\n",
        "Самый высокий базовый uplift у push - 0.49, самый низкий у banners - 0.29"
      ]
    },
    {
      "cell_type": "markdown",
      "metadata": {
        "id": "Es_paHiL25YF"
      },
      "source": [
        "<h2> 2. Клиентские агрегаты (12 баллов)</h2>\n",
        "\n",
        "Присоедините клиентские агрегаты (будьте внимательны, присоедините агрегаты за корректный месяц) и изучите полученные данные."
      ]
    },
    {
      "cell_type": "markdown",
      "metadata": {
        "id": "Mi5DjQXfKv0n"
      },
      "source": [
        "**Комментарий по заданиям и оцениванию:**\n",
        "\n",
        "* Вы должны корректно присоединить клиентские агрегаты со смещением на два месяца, чтобы не было лика таргета. За данное действие можно получить **4 балла**\n",
        "\n",
        "* Далее вы должен сделать UPLIFT EDA, которые обсуждались на лекции и показывались в практических ноутбуках. В ходе анализа вы должны проверить корректность данных по рекламным кампаниям и решить, что делать со \"сломанными\" кампаниями. По итогам анализа подготовьте выводы. За данное действие можно получить **8 баллов**"
      ]
    },
    {
      "cell_type": "markdown",
      "metadata": {},
      "source": [
        "#### 2.1 Присоединение пользовательских фич"
      ]
    },
    {
      "cell_type": "markdown",
      "metadata": {},
      "source": [
        "При этом можно сразу закодировать столбец `city` OHE (по хорошему, конечно, нужно это делать отдельно для train и test, но в данном случае всго три уникальных значения, поэтому страшной утечки не должно произойти)"
      ]
    },
    {
      "cell_type": "code",
      "execution_count": 18,
      "metadata": {
        "id": "EnnTRvck4I1n"
      },
      "outputs": [
        {
          "data": {
            "text/html": [
              "<div>\n",
              "<style scoped>\n",
              "    .dataframe tbody tr th:only-of-type {\n",
              "        vertical-align: middle;\n",
              "    }\n",
              "\n",
              "    .dataframe tbody tr th {\n",
              "        vertical-align: top;\n",
              "    }\n",
              "\n",
              "    .dataframe thead th {\n",
              "        text-align: right;\n",
              "    }\n",
              "</style>\n",
              "<table border=\"1\" class=\"dataframe\">\n",
              "  <thead>\n",
              "    <tr style=\"text-align: right;\">\n",
              "      <th></th>\n",
              "      <th>user_id</th>\n",
              "      <th>t_flag</th>\n",
              "      <th>channel</th>\n",
              "      <th>target</th>\n",
              "      <th>x1</th>\n",
              "      <th>x2</th>\n",
              "      <th>x3</th>\n",
              "      <th>x4</th>\n",
              "      <th>x5</th>\n",
              "      <th>x6</th>\n",
              "      <th>x7</th>\n",
              "      <th>x8</th>\n",
              "      <th>x9</th>\n",
              "      <th>age</th>\n",
              "      <th>city_Smolensk</th>\n",
              "      <th>city_Ufa</th>\n",
              "    </tr>\n",
              "  </thead>\n",
              "  <tbody>\n",
              "    <tr>\n",
              "      <th>0</th>\n",
              "      <td>24623</td>\n",
              "      <td>0</td>\n",
              "      <td>push</td>\n",
              "      <td>0</td>\n",
              "      <td>2.281651</td>\n",
              "      <td>-0.354332</td>\n",
              "      <td>1.288191</td>\n",
              "      <td>-2.754188</td>\n",
              "      <td>0.202581</td>\n",
              "      <td>0.831745</td>\n",
              "      <td>-0.002779</td>\n",
              "      <td>-1.463527</td>\n",
              "      <td>1.976755</td>\n",
              "      <td>39</td>\n",
              "      <td>0</td>\n",
              "      <td>1</td>\n",
              "    </tr>\n",
              "    <tr>\n",
              "      <th>1</th>\n",
              "      <td>4001330</td>\n",
              "      <td>0</td>\n",
              "      <td>banner</td>\n",
              "      <td>0</td>\n",
              "      <td>-1.821441</td>\n",
              "      <td>-0.847392</td>\n",
              "      <td>1.020568</td>\n",
              "      <td>-1.611153</td>\n",
              "      <td>0.933913</td>\n",
              "      <td>0.236984</td>\n",
              "      <td>0.933495</td>\n",
              "      <td>0.795683</td>\n",
              "      <td>-0.812175</td>\n",
              "      <td>30</td>\n",
              "      <td>1</td>\n",
              "      <td>0</td>\n",
              "    </tr>\n",
              "    <tr>\n",
              "      <th>2</th>\n",
              "      <td>2008409</td>\n",
              "      <td>1</td>\n",
              "      <td>other_ads</td>\n",
              "      <td>1</td>\n",
              "      <td>-1.952636</td>\n",
              "      <td>-0.479671</td>\n",
              "      <td>1.067760</td>\n",
              "      <td>-1.521329</td>\n",
              "      <td>-0.687298</td>\n",
              "      <td>0.327018</td>\n",
              "      <td>1.052708</td>\n",
              "      <td>1.244605</td>\n",
              "      <td>-0.886796</td>\n",
              "      <td>25</td>\n",
              "      <td>0</td>\n",
              "      <td>0</td>\n",
              "    </tr>\n",
              "    <tr>\n",
              "      <th>3</th>\n",
              "      <td>4045746</td>\n",
              "      <td>1</td>\n",
              "      <td>banner</td>\n",
              "      <td>1</td>\n",
              "      <td>1.768029</td>\n",
              "      <td>-1.560275</td>\n",
              "      <td>0.533826</td>\n",
              "      <td>-1.815031</td>\n",
              "      <td>-0.456184</td>\n",
              "      <td>0.274609</td>\n",
              "      <td>0.077484</td>\n",
              "      <td>0.452296</td>\n",
              "      <td>-0.224605</td>\n",
              "      <td>21</td>\n",
              "      <td>0</td>\n",
              "      <td>1</td>\n",
              "    </tr>\n",
              "    <tr>\n",
              "      <th>4</th>\n",
              "      <td>2101471</td>\n",
              "      <td>0</td>\n",
              "      <td>other_ads</td>\n",
              "      <td>1</td>\n",
              "      <td>2.365226</td>\n",
              "      <td>-1.303713</td>\n",
              "      <td>0.133301</td>\n",
              "      <td>2.098386</td>\n",
              "      <td>-0.000000</td>\n",
              "      <td>0.285846</td>\n",
              "      <td>0.545567</td>\n",
              "      <td>0.293677</td>\n",
              "      <td>-0.312559</td>\n",
              "      <td>36</td>\n",
              "      <td>0</td>\n",
              "      <td>1</td>\n",
              "    </tr>\n",
              "  </tbody>\n",
              "</table>\n",
              "</div>"
            ],
            "text/plain": [
              "   user_id  t_flag    channel  target        x1        x2        x3        x4  \\\n",
              "0    24623       0       push       0  2.281651 -0.354332  1.288191 -2.754188   \n",
              "1  4001330       0     banner       0 -1.821441 -0.847392  1.020568 -1.611153   \n",
              "2  2008409       1  other_ads       1 -1.952636 -0.479671  1.067760 -1.521329   \n",
              "3  4045746       1     banner       1  1.768029 -1.560275  0.533826 -1.815031   \n",
              "4  2101471       0  other_ads       1  2.365226 -1.303713  0.133301  2.098386   \n",
              "\n",
              "         x5        x6        x7        x8        x9  age  city_Smolensk  \\\n",
              "0  0.202581  0.831745 -0.002779 -1.463527  1.976755   39              0   \n",
              "1  0.933913  0.236984  0.933495  0.795683 -0.812175   30              1   \n",
              "2 -0.687298  0.327018  1.052708  1.244605 -0.886796   25              0   \n",
              "3 -0.456184  0.274609  0.077484  0.452296 -0.224605   21              0   \n",
              "4 -0.000000  0.285846  0.545567  0.293677 -0.312559   36              0   \n",
              "\n",
              "   city_Ufa  \n",
              "0         1  \n",
              "1         0  \n",
              "2         0  \n",
              "3         1  \n",
              "4         1  "
            ]
          },
          "execution_count": 18,
          "metadata": {},
          "output_type": "execute_result"
        }
      ],
      "source": [
        "features_filtered = features[features['report_dt'].dt.to_period('M').dt.start_time == pd.to_datetime('2024-09-01')].drop('report_dt', axis=1) # пользователи только за сентябрь\n",
        "\n",
        "df = final_data.merge(\n",
        "    features_filtered,\n",
        "    on='user_id',\n",
        "    how='left'\n",
        ")\n",
        "encoder = OneHotEncoder(dtype='int', drop='first')\n",
        "\n",
        "one_hot_encoded = encoder.fit_transform(df[['city']]).toarray()\n",
        "\n",
        "one_hot_df = pd.DataFrame(one_hot_encoded, \n",
        "                          columns=encoder.get_feature_names_out(['city']))\n",
        "\n",
        "df = pd.concat([df.drop('city', axis=1), one_hot_df], axis=1)\n",
        "\n",
        "df.to_csv('df.csv', index=False) # Сохраняем на всякий случай\n",
        "\n",
        "df.head()"
      ]
    },
    {
      "cell_type": "markdown",
      "metadata": {},
      "source": [
        "#### 2.2 Базовый EDA"
      ]
    },
    {
      "cell_type": "markdown",
      "metadata": {},
      "source": [
        "Проверим, нет ли пропусков"
      ]
    },
    {
      "cell_type": "code",
      "execution_count": 19,
      "metadata": {},
      "outputs": [
        {
          "data": {
            "text/html": [
              "<div>\n",
              "<style scoped>\n",
              "    .dataframe tbody tr th:only-of-type {\n",
              "        vertical-align: middle;\n",
              "    }\n",
              "\n",
              "    .dataframe tbody tr th {\n",
              "        vertical-align: top;\n",
              "    }\n",
              "\n",
              "    .dataframe thead th {\n",
              "        text-align: right;\n",
              "    }\n",
              "</style>\n",
              "<table border=\"1\" class=\"dataframe\">\n",
              "  <thead>\n",
              "    <tr style=\"text-align: right;\">\n",
              "      <th>Column</th>\n",
              "      <th>user_id</th>\n",
              "      <th>t_flag</th>\n",
              "      <th>channel</th>\n",
              "      <th>target</th>\n",
              "      <th>x1</th>\n",
              "      <th>x2</th>\n",
              "      <th>x3</th>\n",
              "      <th>x4</th>\n",
              "      <th>x5</th>\n",
              "      <th>x6</th>\n",
              "      <th>x7</th>\n",
              "      <th>x8</th>\n",
              "      <th>x9</th>\n",
              "      <th>age</th>\n",
              "      <th>city_Smolensk</th>\n",
              "      <th>city_Ufa</th>\n",
              "    </tr>\n",
              "  </thead>\n",
              "  <tbody>\n",
              "    <tr>\n",
              "      <th>Missing Values</th>\n",
              "      <td>0</td>\n",
              "      <td>0</td>\n",
              "      <td>0</td>\n",
              "      <td>0</td>\n",
              "      <td>0</td>\n",
              "      <td>0</td>\n",
              "      <td>0</td>\n",
              "      <td>0</td>\n",
              "      <td>0</td>\n",
              "      <td>0</td>\n",
              "      <td>0</td>\n",
              "      <td>0</td>\n",
              "      <td>0</td>\n",
              "      <td>0</td>\n",
              "      <td>0</td>\n",
              "      <td>0</td>\n",
              "    </tr>\n",
              "  </tbody>\n",
              "</table>\n",
              "</div>"
            ],
            "text/plain": [
              "Column          user_id  t_flag  channel  target  x1  x2  x3  x4  x5  x6  x7  \\\n",
              "Missing Values        0       0        0       0   0   0   0   0   0   0   0   \n",
              "\n",
              "Column          x8  x9  age  city_Smolensk  city_Ufa  \n",
              "Missing Values   0   0    0              0         0  "
            ]
          },
          "execution_count": 19,
          "metadata": {},
          "output_type": "execute_result"
        }
      ],
      "source": [
        "missing_values = df.isna().sum().to_frame('Missing Values').T\n",
        "missing_values.columns.name = 'Column'\n",
        "missing_values.index = ['Missing Values']\n",
        "missing_values"
      ]
    },
    {
      "cell_type": "markdown",
      "metadata": {},
      "source": [
        "Посмотрим, насколько различия между значениями признаков целевой и контрольной группы статистически значимы (полагаем уровень статзначимости 0.05)"
      ]
    },
    {
      "cell_type": "code",
      "execution_count": 20,
      "metadata": {},
      "outputs": [
        {
          "data": {
            "text/html": [
              "<div>\n",
              "<style scoped>\n",
              "    .dataframe tbody tr th:only-of-type {\n",
              "        vertical-align: middle;\n",
              "    }\n",
              "\n",
              "    .dataframe tbody tr th {\n",
              "        vertical-align: top;\n",
              "    }\n",
              "\n",
              "    .dataframe thead th {\n",
              "        text-align: right;\n",
              "    }\n",
              "</style>\n",
              "<table border=\"1\" class=\"dataframe\">\n",
              "  <thead>\n",
              "    <tr style=\"text-align: right;\">\n",
              "      <th>Column</th>\n",
              "      <th>x1</th>\n",
              "      <th>x2</th>\n",
              "      <th>x3</th>\n",
              "      <th>x4</th>\n",
              "      <th>x5</th>\n",
              "      <th>x6</th>\n",
              "      <th>x7</th>\n",
              "      <th>x8</th>\n",
              "      <th>x9</th>\n",
              "      <th>age</th>\n",
              "      <th>city_Smolensk</th>\n",
              "      <th>city_Ufa</th>\n",
              "    </tr>\n",
              "  </thead>\n",
              "  <tbody>\n",
              "    <tr>\n",
              "      <th>push</th>\n",
              "      <td>0.001583</td>\n",
              "      <td>0.000658</td>\n",
              "      <td>0.000579</td>\n",
              "      <td>0.001788</td>\n",
              "      <td>0.000832</td>\n",
              "      <td>0.000778</td>\n",
              "      <td>0.000479</td>\n",
              "      <td>0.000133</td>\n",
              "      <td>0.000381</td>\n",
              "      <td>0.001023</td>\n",
              "      <td>0.00022</td>\n",
              "      <td>0.000048</td>\n",
              "    </tr>\n",
              "    <tr>\n",
              "      <th>banner</th>\n",
              "      <td>0.000375</td>\n",
              "      <td>0.00029</td>\n",
              "      <td>0.00018</td>\n",
              "      <td>0.000105</td>\n",
              "      <td>0.000243</td>\n",
              "      <td>0.000151</td>\n",
              "      <td>0.000401</td>\n",
              "      <td>0.000378</td>\n",
              "      <td>0.000403</td>\n",
              "      <td>0.000197</td>\n",
              "      <td>0.0</td>\n",
              "      <td>0.000017</td>\n",
              "    </tr>\n",
              "    <tr>\n",
              "      <th>other_ads</th>\n",
              "      <td>0.000375</td>\n",
              "      <td>0.00029</td>\n",
              "      <td>0.00018</td>\n",
              "      <td>0.000105</td>\n",
              "      <td>9.209419</td>\n",
              "      <td>0.000151</td>\n",
              "      <td>0.000401</td>\n",
              "      <td>0.000378</td>\n",
              "      <td>0.000403</td>\n",
              "      <td>0.000143</td>\n",
              "      <td>0.294799</td>\n",
              "      <td>0.098554</td>\n",
              "    </tr>\n",
              "  </tbody>\n",
              "</table>\n",
              "</div>"
            ],
            "text/plain": [
              "Column           x1        x2        x3        x4        x5        x6  \\\n",
              "push       0.001583  0.000658  0.000579  0.001788  0.000832  0.000778   \n",
              "banner     0.000375   0.00029   0.00018  0.000105  0.000243  0.000151   \n",
              "other_ads  0.000375   0.00029   0.00018  0.000105  9.209419  0.000151   \n",
              "\n",
              "Column           x7        x8        x9       age city_Smolensk  city_Ufa  \n",
              "push       0.000479  0.000133  0.000381  0.001023       0.00022  0.000048  \n",
              "banner     0.000401  0.000378  0.000403  0.000197           0.0  0.000017  \n",
              "other_ads  0.000401  0.000378  0.000403  0.000143      0.294799  0.098554  "
            ]
          },
          "execution_count": 20,
          "metadata": {},
          "output_type": "execute_result"
        }
      ],
      "source": [
        "x_col = df.columns.drop(['t_flag', 'channel', 'target', 'user_id'])\n",
        "results = pd.DataFrame(index=df['channel'].unique(), columns=x_col)\n",
        "\n",
        "for channel in df['channel'].unique():\n",
        "    channel_data = df[df['channel'] == channel]\n",
        "    for col in x_col:\n",
        "        psi = calculate_psi(\n",
        "            expected=channel_data[channel_data['t_flag'] == 0][col],\n",
        "            actual=channel_data[channel_data['t_flag'] == 1][col]\n",
        "        )\n",
        "        results.at[channel, col] = psi\n",
        "results"
      ]
    },
    {
      "cell_type": "markdown",
      "metadata": {},
      "source": [
        "Есть вопросы к признаку `x5` кампании `other_ads`"
      ]
    },
    {
      "cell_type": "code",
      "execution_count": 21,
      "metadata": {},
      "outputs": [
        {
          "data": {
            "image/png": "[encoded data removed]",
            "text/plain": [
              "<Figure size 1000x500 with 1 Axes>"
            ]
          },
          "metadata": {},
          "output_type": "display_data"
        }
      ],
      "source": [
        "plt.figure(figsize=(10, 5))\n",
        "sns.histplot(data = df[df.channel == 'other_ads'], x='x5', hue='t_flag', bins=100).set_title(col)\n",
        "plt.show()"
      ]
    },
    {
      "cell_type": "markdown",
      "metadata": {},
      "source": [
        "Очевидно, что тестовая и контрольная группа из разных выборок. Есть два варианта - удалить признак или удалить целую кампанию. Так как с остальными признаками все отлично, то жалко удалять хорошую кампанию"
      ]
    },
    {
      "cell_type": "code",
      "execution_count": 22,
      "metadata": {},
      "outputs": [],
      "source": [
        "df = df.drop('x5', axis=1)"
      ]
    },
    {
      "cell_type": "markdown",
      "metadata": {
        "id": "pp5bzCfq5AKs"
      },
      "source": [
        "### ваши выводы здесь"
      ]
    },
    {
      "cell_type": "markdown",
      "metadata": {
        "id": "UhrSiFL325YF"
      },
      "source": [
        "<h2> 3. Построение моделей и оценка их качества (14 баллов)</h2>\n",
        "\n",
        "Постройте Uplift модели по собранным кампаниям, проведите тюнинг гиперпараметров и оцените их качество (qini score). Для каждой модели также постройте qini-curve."
      ]
    },
    {
      "cell_type": "markdown",
      "metadata": {
        "id": "RfDQkfmaLeE-"
      },
      "source": [
        "**Комментарий по заданиям и оцениванию:**\n",
        "\n",
        "* Реализован только подход Solomodel без дополнительных библиотек и калибровок  - **1 балл**\n",
        "\n",
        "* Реализован Solomodel или Twomodel через Sklift или CausalML - **2 балла**\n",
        "\n",
        "* Учтена калибровка Metalearner'ах - **2 балла**\n",
        "\n",
        "* Корректно реализован ClassTransformation - **2 балла**\n",
        "\n",
        "* Реализован UpliftRandomForest - **4 балла**\n",
        "\n",
        "* Использованы пайплайны в Sklift - **2 балла**\n",
        "\n",
        "* Реализован тюнинг ( Gridsearch \\ Optuna ) - **1 балл**"
      ]
    },
    {
      "cell_type": "code",
      "execution_count": 23,
      "metadata": {
        "id": "RkbXxg8i4SkR"
      },
      "outputs": [],
      "source": [
        "channels = df['channel'].unique()"
      ]
    },
    {
      "cell_type": "code",
      "execution_count": 24,
      "metadata": {},
      "outputs": [],
      "source": [
        "features_cols = df.columns.drop(['channel', 'target', 'user_id', 't_flag'])\n",
        "sc = StandardScaler()\n",
        "\n",
        "# Создаем ColumnTransformer для предобработки\n",
        "preprocessor = ColumnTransformer(\n",
        "    transformers=[\n",
        "        ('num', StandardScaler(), features_cols)\n",
        "    ])\n",
        "\n",
        "qini_scorer = make_scorer(qini_auc_score, greater_is_better=True)"
      ]
    },
    {
      "cell_type": "code",
      "execution_count": 25,
      "metadata": {},
      "outputs": [],
      "source": [
        "skf = StratifiedKFold(n_splits=2,\n",
        "                      random_state=42,\n",
        "                      shuffle=True)"
      ]
    },
    {
      "cell_type": "code",
      "execution_count": 26,
      "metadata": {},
      "outputs": [],
      "source": [
        "model_1_cb = CatBoostClassifier(verbose=0, random_seed=42, thread_count=-1)\n",
        "model_2_cb = CatBoostClassifier(verbose=0, random_seed=142, thread_count=-1)\n",
        "\n",
        "calib_model_1 = CalibratedClassifierCV(estimator=model_1_cb, method='isotonic', cv=skf)\n",
        "calib_model_2 = CalibratedClassifierCV(estimator=model_2_cb, method='isotonic', cv=skf)"
      ]
    },
    {
      "cell_type": "code",
      "execution_count": 27,
      "metadata": {},
      "outputs": [],
      "source": [
        "# Пайплайн для SoloModel\n",
        "pipeline_solo = Pipeline([\n",
        "    ('preprocessor', preprocessor),\n",
        "    ('model', SoloModel(model_1_cb))\n",
        "])\n",
        "\n",
        "# Параметры для тюнинга\n",
        "param_grid_solo = {\n",
        "    'model__estimator__depth': [2, 8, 10]\n",
        "}\n",
        "\n",
        "# Поиск гиперпараметров\n",
        "grid_search_solo = GridSearchCV(pipeline_solo, param_grid_solo, scoring=qini_scorer, cv=3)\n",
        "\n",
        "# Пайплайн для TwoModel с калибровкой\n",
        "pipeline_two = Pipeline([\n",
        "    ('preprocessor', preprocessor),\n",
        "    ('model', TwoModels(\n",
        "        estimator_trmnt=calib_model_1,\n",
        "        estimator_ctrl=calib_model_2,\n",
        "        method='ddr_control'\n",
        "    ))\n",
        "])\n",
        "# Параметры для тюнинга\n",
        "param_grid_two = {\n",
        "    'model__estimator_trmnt__estimator__depth': [2, 8],\n",
        "    'model__estimator_ctrl__estimator__depth': [10]\n",
        "}\n",
        "\n",
        "# Поиск гиперпараметров\n",
        "grid_search_two = GridSearchCV(pipeline_two, param_grid_two, scoring=qini_scorer, cv=3)\n",
        "\n",
        "# Пайплайн для ClassTransformation\n",
        "pipeline_ct = Pipeline([\n",
        "    ('preprocessor', preprocessor),\n",
        "    ('model', ClassTransformation(estimator=LogisticRegression()))\n",
        "])\n",
        "\n",
        "# Параметры для тюнинга\n",
        "param_grid_ct = {\n",
        "    'model__estimator__C': [0.1, 1, 10]\n",
        "}\n",
        "\n",
        "# Поиск гиперпараметров\n",
        "grid_search_ct = GridSearchCV(pipeline_ct, param_grid_ct, scoring=qini_scorer, cv=3)"
      ]
    },
    {
      "cell_type": "code",
      "execution_count": 28,
      "metadata": {},
      "outputs": [
        {
          "name": "stdout",
          "output_type": "stream",
          "text": [
            "push\n",
            "\tSoloModel обучилась за 116.70 c.\n",
            "\tTwoModel обучилась за 371.93 c.\n",
            "\tClassTransformation обучилась за 0.40 c.\n",
            "\n",
            "banner\n",
            "\tSoloModel обучилась за 148.62 c.\n",
            "\tTwoModel обучилась за 417.09 c.\n",
            "\tClassTransformation обучилась за 0.55 c.\n",
            "\n",
            "other_ads\n",
            "\tSoloModel обучилась за 146.50 c.\n",
            "\tTwoModel обучилась за 418.84 c.\n",
            "\tClassTransformation обучилась за 0.53 c.\n",
            "\n"
          ]
        }
      ],
      "source": [
        "# Словарь для хранения моделей\n",
        "models = {}\n",
        "qini_scores = {}\n",
        "results_df = pd.DataFrame(np.zeros((3, 3)), index=channels, columns=['SoloModel', 'TwoModels_calib', 'ClassTransformation'])\n",
        "# Обучаем модели для каждого канала\n",
        "for channel in np.array(channels):\n",
        "    print(channel)\n",
        "    df_channel = df[df['channel'] == channel]\n",
        "    \n",
        "    X = df_channel[features_cols]\n",
        "    y = df_channel['target']\n",
        "    treatment = df_channel['t_flag']  # Флаг целевой группы\n",
        "    \n",
        "    X_train, X_test, y_train, y_test, treatment_train, treatment_test = train_test_split(\n",
        "        X, y, treatment, test_size=0.2, random_state=42\n",
        "    )\n",
        "    \n",
        "    # SoloModel\n",
        "    start_time = time()\n",
        "    grid_search_solo.fit(X_train, y_train, model__treatment=treatment_train)\n",
        "    uplift_solo = grid_search_solo.predict(X_test)\n",
        "    qini_solo = qini_auc_score(y_test, uplift_solo, treatment_test)\n",
        "    qini_scores[f'{channel}_solo'] = qini_solo\n",
        "    models[f'{channel}_solo'] = grid_search_solo.best_estimator_  # Сохраняем модель\n",
        "    results_df.loc[channel, 'SoloModel'] = qini_solo\n",
        "    print(f'\\tSoloModel обучилась за {time() - start_time:.2f} c.')\n",
        "\n",
        "    # TwoModel с калибровкой\n",
        "    start_time = time()\n",
        "    grid_search_two.fit(X_train, y_train, model__treatment=treatment_train)\n",
        "    uplift_two_calibrated = grid_search_two.predict(X_test)\n",
        "    qini_two_calibrated = qini_auc_score(y_test, uplift_two_calibrated, treatment_test)\n",
        "    qini_scores[f'{channel}_two_calibrated'] = qini_two_calibrated\n",
        "    models[f'{channel}_two_calibrated'] = grid_search_two.best_estimator_  # Сохраняем модель\n",
        "    results_df.loc[channel, 'TwoModels_calib'] = qini_two_calibrated\n",
        "    print(f'\\tTwoModel обучилась за {time() - start_time:.2f} c.')\n",
        "\n",
        "    # ClassTransformation\n",
        "    start_time = time()\n",
        "    grid_search_ct.fit(X_train, y_train, model__treatment=treatment_train)\n",
        "    uplift_ct = grid_search_ct.predict(X_test)\n",
        "    qini_ct = qini_auc_score(y_test, uplift_ct, treatment_test)\n",
        "    qini_scores[f'{channel}_ct'] = qini_ct\n",
        "    models[f'{channel}_ct'] = grid_search_ct.best_estimator_  # Сохраняем модель\n",
        "    results_df.loc[channel, 'ClassTransformation'] = qini_ct\n",
        "    print(f'\\tClassTransformation обучилась за {time() - start_time:.2f} c.')\n",
        "    print()"
      ]
    },
    {
      "cell_type": "code",
      "execution_count": 29,
      "metadata": {},
      "outputs": [],
      "source": [
        "for channel in channels:\n",
        "    df_channel = df[df['channel'] == channel]\n",
        "    \n",
        "    # Признаки и целевая переменная\n",
        "    X = df_channel[features_cols]\n",
        "    y = df_channel['target']\n",
        "    \n",
        "    # Преобразуем treatment в строки\n",
        "    treatment = df_channel['t_flag'].astype(str)\n",
        "    \n",
        "    # Разделяем данные на обучающую и тестовую выборки\n",
        "    X_train, X_test, y_train, y_test, treatment_train, treatment_test = train_test_split(\n",
        "        X, y, treatment, test_size=0.2, random_state=42\n",
        "    )\n",
        "\n",
        "    # Инициализируем модель\n",
        "    uplift_forest = UpliftRandomForestClassifier(control_name='0')\n",
        "    \n",
        "    treatment_train = treatment_train.astype('str')\n",
        "    treatment_test = treatment_test.astype('str')\n",
        "\n",
        "    # Обучаем модель\n",
        "    uplift_forest.fit(\n",
        "        X=X_train.values,\n",
        "        y=y_train.values,\n",
        "        treatment=treatment_train.values\n",
        "    )\n",
        "    \n",
        "    # Прогнозируем uplift\n",
        "    uplift_fr = uplift_forest.predict(X=X_test.values)\n",
        "\n",
        "    qini = qini_auc_score(y_true = y_test, uplift = uplift_fr.reshape(-1), treatment = treatment_test.astype('float'))\n",
        "\n",
        "    results_df.loc[channel, 'UpliftRandomForestClassifier'] = qini"
      ]
    },
    {
      "cell_type": "code",
      "execution_count": 30,
      "metadata": {},
      "outputs": [
        {
          "data": {
            "text/html": [
              "<div>\n",
              "<style scoped>\n",
              "    .dataframe tbody tr th:only-of-type {\n",
              "        vertical-align: middle;\n",
              "    }\n",
              "\n",
              "    .dataframe tbody tr th {\n",
              "        vertical-align: top;\n",
              "    }\n",
              "\n",
              "    .dataframe thead th {\n",
              "        text-align: right;\n",
              "    }\n",
              "</style>\n",
              "<table border=\"1\" class=\"dataframe\">\n",
              "  <thead>\n",
              "    <tr style=\"text-align: right;\">\n",
              "      <th></th>\n",
              "      <th>SoloModel</th>\n",
              "      <th>TwoModels_calib</th>\n",
              "      <th>ClassTransformation</th>\n",
              "      <th>UpliftRandomForestClassifier</th>\n",
              "    </tr>\n",
              "  </thead>\n",
              "  <tbody>\n",
              "    <tr>\n",
              "      <th>push</th>\n",
              "      <td>0.251061</td>\n",
              "      <td>0.253405</td>\n",
              "      <td>0.166388</td>\n",
              "      <td>0.234118</td>\n",
              "    </tr>\n",
              "    <tr>\n",
              "      <th>banner</th>\n",
              "      <td>0.224083</td>\n",
              "      <td>0.230339</td>\n",
              "      <td>0.211158</td>\n",
              "      <td>0.187023</td>\n",
              "    </tr>\n",
              "    <tr>\n",
              "      <th>other_ads</th>\n",
              "      <td>0.214983</td>\n",
              "      <td>0.218016</td>\n",
              "      <td>0.211345</td>\n",
              "      <td>0.177565</td>\n",
              "    </tr>\n",
              "  </tbody>\n",
              "</table>\n",
              "</div>"
            ],
            "text/plain": [
              "           SoloModel  TwoModels_calib  ClassTransformation  \\\n",
              "push        0.251061         0.253405             0.166388   \n",
              "banner      0.224083         0.230339             0.211158   \n",
              "other_ads   0.214983         0.218016             0.211345   \n",
              "\n",
              "           UpliftRandomForestClassifier  \n",
              "push                           0.234118  \n",
              "banner                         0.187023  \n",
              "other_ads                      0.177565  "
            ]
          },
          "execution_count": 30,
          "metadata": {},
          "output_type": "execute_result"
        }
      ],
      "source": [
        "results_df"
      ]
    },
    {
      "cell_type": "markdown",
      "metadata": {
        "id": "IG98Ll0W25YF"
      },
      "source": [
        "<h2>4. Подготовка ответа в требуемом формате и подготовка выводов (6 баллов)</h2>\n",
        "\n",
        "a) Сделайте скоринг нужных клиентов, подготовьте ответ в требуемом формате\n",
        "\n",
        "б) Сделайте краткую аналитику того, какой канал взаимодействия наиболее предпочтителен\n",
        "\n",
        "в) Сделайте выводы по проделанной работе"
      ]
    },
    {
      "cell_type": "markdown",
      "metadata": {
        "id": "I1SQE2JRMNsA"
      },
      "source": [
        "**Комментарий по заданиям и оцениванию:**\n",
        "\n",
        "* Подготовлен только ответ - **1 балл**`\n",
        "* Подготовлен содержательный вывод по проделанной работе - **4 балла**\n",
        "* Корректно принято решение об отправке/не отправке коммуникации клиентам в зависимости от значений Uplift - **1 балл**"
      ]
    },
    {
      "cell_type": "markdown",
      "metadata": {},
      "source": [
        "#### 4.1 Подготовка пользователей"
      ]
    },
    {
      "cell_type": "markdown",
      "metadata": {},
      "source": [
        "Для предсказаний возьмем пользователей за январь 2025 года и для примера возьмем случайную выборку из этой совокупности"
      ]
    },
    {
      "cell_type": "code",
      "execution_count": 31,
      "metadata": {},
      "outputs": [],
      "source": [
        "features_filtered = features[features['report_dt'].dt.to_period('M').dt.start_time == pd.to_datetime('2025-01-01')].drop('report_dt', axis=1) # пользователи только за сентябрь\n",
        "\n",
        "one_hot_encoded = encoder.transform(features_filtered[['city']]).toarray()\n",
        "\n",
        "one_hot_df = pd.DataFrame(one_hot_encoded, \n",
        "                          columns=encoder.get_feature_names_out(['city']))\n",
        "\n",
        "features_filtered = pd.concat([features_filtered.drop('city', axis=1), one_hot_df], axis=1)"
      ]
    },
    {
      "cell_type": "markdown",
      "metadata": {},
      "source": [
        "#### 4.2 Подготовка предсказаний"
      ]
    },
    {
      "cell_type": "markdown",
      "metadata": {},
      "source": [
        "Не будем отправлять клиенту комуникацию, если его наилучший uplift меньше 0.5 (как в анекдоте про блондинку и динозавра)"
      ]
    },
    {
      "cell_type": "code",
      "execution_count": 32,
      "metadata": {
        "id": "0HmitRRX4nVY"
      },
      "outputs": [
        {
          "name": "stderr",
          "output_type": "stream",
          "text": [
            "100%|██████████| 5000/5000 [00:29<00:00, 169.58it/s]\n"
          ]
        },
        {
          "data": {
            "text/html": [
              "<div>\n",
              "<style scoped>\n",
              "    .dataframe tbody tr th:only-of-type {\n",
              "        vertical-align: middle;\n",
              "    }\n",
              "\n",
              "    .dataframe tbody tr th {\n",
              "        vertical-align: top;\n",
              "    }\n",
              "\n",
              "    .dataframe thead th {\n",
              "        text-align: right;\n",
              "    }\n",
              "</style>\n",
              "<table border=\"1\" class=\"dataframe\">\n",
              "  <thead>\n",
              "    <tr style=\"text-align: right;\">\n",
              "      <th></th>\n",
              "      <th>user_id</th>\n",
              "      <th>best_channel</th>\n",
              "      <th>best_uplift</th>\n",
              "    </tr>\n",
              "  </thead>\n",
              "  <tbody>\n",
              "    <tr>\n",
              "      <th>1434</th>\n",
              "      <td>4004112</td>\n",
              "      <td>push</td>\n",
              "      <td>0.991846</td>\n",
              "    </tr>\n",
              "    <tr>\n",
              "      <th>2625</th>\n",
              "      <td>66908</td>\n",
              "      <td>push</td>\n",
              "      <td>0.991845</td>\n",
              "    </tr>\n",
              "    <tr>\n",
              "      <th>863</th>\n",
              "      <td>4063897</td>\n",
              "      <td>push</td>\n",
              "      <td>0.991767</td>\n",
              "    </tr>\n",
              "    <tr>\n",
              "      <th>3873</th>\n",
              "      <td>34526</td>\n",
              "      <td>push</td>\n",
              "      <td>0.991627</td>\n",
              "    </tr>\n",
              "    <tr>\n",
              "      <th>710</th>\n",
              "      <td>4010557</td>\n",
              "      <td>push</td>\n",
              "      <td>0.991067</td>\n",
              "    </tr>\n",
              "  </tbody>\n",
              "</table>\n",
              "</div>"
            ],
            "text/plain": [
              "      user_id best_channel  best_uplift\n",
              "1434  4004112         push     0.991846\n",
              "2625    66908         push     0.991845\n",
              "863   4063897         push     0.991767\n",
              "3873    34526         push     0.991627\n",
              "710   4010557         push     0.991067"
            ]
          },
          "execution_count": 32,
          "metadata": {},
          "output_type": "execute_result"
        }
      ],
      "source": [
        "# Создаем DataFrame для хранения рекомендаций\n",
        "recommendations = []\n",
        "users = random.sample(sorted(features_filtered['user_id'].unique()), k=5000)\n",
        "# Для каждого клиента выбираем канал с максимальным uplift\n",
        "for user_id in tqdm(users):\n",
        "    user_data = features_filtered[features_filtered['user_id'] == user_id].iloc[0]  # Данные клиента\n",
        "    \n",
        "    # Создаем DataFrame для признаков клиента\n",
        "    X_user = pd.DataFrame([user_data[features_cols]], \n",
        "                          columns=features_cols)\n",
        "    \n",
        "    # Прогнозируем uplift для каждого канала\n",
        "    uplift_scores = {}\n",
        "    for channel in channels:\n",
        "        model = models[f'{channel}_solo']  # Используем TwoModel с калибровкой\n",
        "        uplift = model.predict(X_user)[0]\n",
        "\n",
        "        uplift_scores[channel] = uplift\n",
        "    # Выбираем канал с максимальным uplift\n",
        "    best_channel = max(uplift_scores, key=uplift_scores.get)\n",
        "    best_uplift = uplift_scores[best_channel]\n",
        "    \n",
        "    # Если uplift <= 0, рекомендуем не отправлять коммуникацию\n",
        "    if best_uplift <= 0.5:\n",
        "        best_channel = 'no_comm'\n",
        "        best_uplift = 0.5001\n",
        "    \n",
        "    # Добавляем рекомендацию в таблицу\n",
        "    recommendations.append({\n",
        "        'user_id': user_id,\n",
        "        'best_channel': best_channel,\n",
        "        'best_uplift': best_uplift\n",
        "\n",
        "    })\n",
        "\n",
        "# Преобразуем в DataFrame\n",
        "recommendations_df = pd.DataFrame(recommendations).sort_values('best_uplift', ascending=False)\n",
        "\n",
        "# Сохраняем результат\n",
        "recommendations_df.to_csv('recommendations.csv', index=False)\n",
        "\n",
        "# Выводим первые строки\n",
        "recommendations_df.head()"
      ]
    },
    {
      "cell_type": "markdown",
      "metadata": {},
      "source": [
        "#### 4.3 Небольшой анализ"
      ]
    },
    {
      "cell_type": "code",
      "execution_count": 33,
      "metadata": {},
      "outputs": [
        {
          "data": {
            "text/plain": [
              "array(['push', 'other_ads', 'banner', 'no_comm'], dtype=object)"
            ]
          },
          "execution_count": 33,
          "metadata": {},
          "output_type": "execute_result"
        }
      ],
      "source": [
        "recommendations_df.best_channel.unique()"
      ]
    },
    {
      "cell_type": "markdown",
      "metadata": {},
      "source": [
        "В рекомендациях присутсвуют разные способы коммуникации"
      ]
    },
    {
      "cell_type": "code",
      "execution_count": 34,
      "metadata": {},
      "outputs": [],
      "source": [
        "# небольшой костыль для соответсвия цветов на гистограмме и круговой диаграмме\n",
        "vals = recommendations_df.best_channel.value_counts()\n",
        "rec_vals = {'push':vals['push'], \n",
        "            'banner':vals['banner'], \n",
        "            'other_ads':vals['other_ads'], \n",
        "            'no_comm':vals['no_comm']}"
      ]
    },
    {
      "cell_type": "code",
      "execution_count": 35,
      "metadata": {},
      "outputs": [
        {
          "data": {
            "image/png": "[encoded data removed]",
            "text/plain": [
              "<Figure size 1600x600 with 2 Axes>"
            ]
          },
          "metadata": {},
          "output_type": "display_data"
        }
      ],
      "source": [
        "plt.figure(figsize=(16, 6))\n",
        "\n",
        "for channel in channels:\n",
        "    plt.subplot(1, 2, 1)\n",
        "    plt.title('Распределение наилучших uplift')    \n",
        "    plt.hist(recommendations_df[recommendations_df.best_channel == channel].best_uplift, bins=100, label=channel, alpha = 0.5)\n",
        "    plt.legend()\n",
        "plt.xlabel('uplift')\n",
        "plt.subplot(1, 2, 2)\n",
        "plt.title('Распределение наилучших каналов')\n",
        "plt.pie(x = rec_vals.values(), labels=rec_vals.keys()) \n",
        "plt.legend() \n",
        "plt.show()"
      ]
    },
    {
      "cell_type": "markdown",
      "metadata": {},
      "source": [
        "В среднем, самый лучший способ крммуникации - push уведомления"
      ]
    },
    {
      "cell_type": "markdown",
      "metadata": {
        "id": "LGavtbmn4oj1"
      },
      "source": [
        "#### 4.4 Выводы"
      ]
    },
    {
      "cell_type": "markdown",
      "metadata": {},
      "source": [
        "Для каждого выбранного пользователя был подобран оптимальный канал коммуникации и соответсвующий ему Uplift"
      ]
    }
  ],
  "metadata": {
    "colab": {
      "include_colab_link": true,
      "provenance": []
    },
    "kernelspec": {
      "display_name": "Python 3",
      "name": "python3"
    },
    "language_info": {
      "codemirror_mode": {
        "name": "ipython",
        "version": 3
      },
      "file_extension": ".py",
      "mimetype": "text/x-python",
      "name": "python",
      "nbconvert_exporter": "python",
      "pygments_lexer": "ipython3",
      "version": "3.11.9"
    }
  },
  "nbformat": 4,
  "nbformat_minor": 0
}
